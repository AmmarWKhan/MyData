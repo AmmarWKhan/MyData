{
 "cells": [
  {
   "cell_type": "code",
   "execution_count": 1,
   "id": "951f846c",
   "metadata": {},
   "outputs": [
    {
     "name": "stdout",
     "output_type": "stream",
     "text": [
      "Requirement already satisfied: pyodbc in c:\\users\\ammar\\anaconda3\\lib\\site-packages (4.0.34)\n",
      "Collecting pyzk\n",
      "  Downloading pyzk-0.9.tar.gz (19 kB)\n",
      "  Preparing metadata (setup.py): started\n",
      "  Preparing metadata (setup.py): finished with status 'done'\n",
      "Requirement already satisfied: future in c:\\users\\ammar\\anaconda3\\lib\\site-packages (from pyzk) (0.18.3)\n",
      "Building wheels for collected packages: pyzk\n",
      "  Building wheel for pyzk (setup.py): started\n",
      "  Building wheel for pyzk (setup.py): finished with status 'done'\n",
      "  Created wheel for pyzk: filename=pyzk-0.9-py3-none-any.whl size=16937 sha256=b3fd5a75ecce8bf91f7634024f65a86251d0fcbc54870e166dd1d4476ad5707f\n",
      "  Stored in directory: c:\\users\\ammar\\appdata\\local\\pip\\cache\\wheels\\cb\\a5\\dc\\a024f6dbd2d30c3c34910632ea41d9deed6a072d6b9d79b4db\n",
      "Successfully built pyzk\n",
      "Installing collected packages: pyzk\n",
      "Successfully installed pyzk-0.9\n",
      "Note: you may need to restart the kernel to use updated packages.\n"
     ]
    }
   ],
   "source": [
    "pip install pyodbc pyzk\n"
   ]
  },
  {
   "cell_type": "code",
   "execution_count": 8,
   "id": "148693fa",
   "metadata": {},
   "outputs": [],
   "source": [
    "# Connect to SQL Server\n",
    "conn_str = (\n",
    "    r'DRIVER={SQL SERVER};'\n",
    "    r'SERVER=DESKTOP-51LBS5R\\SQLEXPRESS;'\n",
    "    r'DATABASE=E_Attendance;'\n",
    "    r'Trusted_Connection=yes;'\n",
    ")\n",
    "cnxn = pyodbc.connect(conn_str)\n",
    "cursor = cnxn.cursor()"
   ]
  },
  {
   "cell_type": "code",
   "execution_count": null,
   "id": "af880bb0",
   "metadata": {},
   "outputs": [],
   "source": []
  }
 ],
 "metadata": {
  "kernelspec": {
   "display_name": "Python 3 (ipykernel)",
   "language": "python",
   "name": "python3"
  },
  "language_info": {
   "codemirror_mode": {
    "name": "ipython",
    "version": 3
   },
   "file_extension": ".py",
   "mimetype": "text/x-python",
   "name": "python",
   "nbconvert_exporter": "python",
   "pygments_lexer": "ipython3",
   "version": "3.11.4"
  }
 },
 "nbformat": 4,
 "nbformat_minor": 5
}
