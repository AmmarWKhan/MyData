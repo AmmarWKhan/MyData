{
 "cells": [
  {
   "cell_type": "code",
   "execution_count": 1,
   "id": "7600fdde",
   "metadata": {},
   "outputs": [
    {
     "name": "stdout",
     "output_type": "stream",
     "text": [
      "Requirement already satisfied: pyzk in c:\\users\\ammar\\anaconda3\\lib\\site-packages (0.9)\n",
      "Requirement already satisfied: future in c:\\users\\ammar\\anaconda3\\lib\\site-packages (from pyzk) (0.18.3)\n",
      "Note: you may need to restart the kernel to use updated packages.\n"
     ]
    }
   ],
   "source": [
    "pip install -U pyzk"
   ]
  },
  {
   "cell_type": "code",
   "execution_count": 2,
   "id": "aedeab30",
   "metadata": {},
   "outputs": [],
   "source": [
    "import sys\n",
    "import os\n",
    "sys.path.insert(1,os.path.abspath(\"./pyzk\"))\n",
    "from zk import ZK, const"
   ]
  },
  {
   "cell_type": "code",
   "execution_count": 8,
   "id": "3446b937",
   "metadata": {},
   "outputs": [],
   "source": [
    "from zk import ZK, const"
   ]
  },
  {
   "cell_type": "code",
   "execution_count": 9,
   "id": "266a414e",
   "metadata": {},
   "outputs": [],
   "source": [
    "conn = None\n",
    "# create ZK instance\n",
    "zk = ZK('192.168.100.7', port=4370, timeout=5, password=0, force_udp=False, ommit_ping=False)"
   ]
  },
  {
   "cell_type": "code",
   "execution_count": 10,
   "id": "432177c2",
   "metadata": {},
   "outputs": [],
   "source": [
    "conn = zk.connect()"
   ]
  },
  {
   "cell_type": "code",
   "execution_count": 11,
   "id": "42deb2c9",
   "metadata": {},
   "outputs": [],
   "source": [
    "import pyodbc\n",
    "\n",
    "\n",
    "\n",
    "\n",
    "\n",
    "conn_str = (\n",
    "    r'DRIVER={SQL SERVER};'\n",
    "    r'SERVER=DESKTOP-51LBS5R\\SQLEXPRESS;'\n",
    "    r'DATABASE=E_Attendance;'\n",
    "    r'Trusted_Connection=yes;'\n",
    ")\n",
    "\n",
    "\n",
    "\n",
    "\n",
    "# Connect to SSMS\n",
    "ssms_connection = pyodbc.connect(conn_str)\n",
    "ssms_cursor = ssms_connection.cursor()"
   ]
  },
  {
   "cell_type": "code",
   "execution_count": 12,
   "id": "f2c9f58a",
   "metadata": {},
   "outputs": [
    {
     "name": "stdout",
     "output_type": "stream",
     "text": [
      "Requirement already satisfied: pyodbc in c:\\users\\ammar\\anaconda3\\lib\\site-packages (4.0.34)\n",
      "Note: you may need to restart the kernel to use updated packages.\n"
     ]
    }
   ],
   "source": [
    "pip install pyodbc"
   ]
  },
  {
   "cell_type": "code",
   "execution_count": 13,
   "id": "ba59de85",
   "metadata": {
    "scrolled": true
   },
   "outputs": [],
   "source": [
    "import pyodbc\n",
    "\n",
    "\n",
    "\n",
    "\n",
    "\n",
    "conn_str = (\n",
    "    r'DRIVER={SQL SERVER};'\n",
    "    r'SERVER=DESKTOP-51LBS5R\\SQLEXPRESS;'\n",
    "    r'DATABASE=E_Attendance;'\n",
    "    r'Trusted_Connection=yes;'\n",
    ")\n",
    "\n",
    "\n",
    "\n",
    "\n",
    "# Connect to SSMS\n",
    "ssms_connection = pyodbc.connect(conn_str)\n",
    "ssms_cursor = ssms_connection.cursor()"
   ]
  },
  {
   "cell_type": "code",
   "execution_count": 14,
   "id": "35502560",
   "metadata": {},
   "outputs": [],
   "source": [
    "# Get attendances (will return list of Attendance object)\n",
    "attendances = conn.get_attendance()"
   ]
  },
  {
   "cell_type": "code",
   "execution_count": 15,
   "id": "61ca1ea4",
   "metadata": {},
   "outputs": [
    {
     "data": {
      "text/plain": [
       "[<Attendance>: 1 : 2023-07-24 12:48:56 (15, 0),\n",
       " <Attendance>: 1 : 2023-07-24 12:54:30 (15, 0),\n",
       " <Attendance>: 1 : 2023-07-24 14:48:47 (15, 0),\n",
       " <Attendance>: 1 : 2023-07-24 14:58:51 (15, 0),\n",
       " <Attendance>: 1 : 2023-07-24 15:11:04 (15, 0),\n",
       " <Attendance>: 2 : 2023-08-09 14:03:50 (15, 0),\n",
       " <Attendance>: 1 : 2023-08-15 11:48:58 (15, 0),\n",
       " <Attendance>: 1 : 2023-08-16 10:07:16 (15, 0),\n",
       " <Attendance>: 1 : 2023-08-16 10:50:11 (15, 0),\n",
       " <Attendance>: 1 : 2023-08-16 11:18:20 (1, 0),\n",
       " <Attendance>: 11 : 2023-08-16 11:34:04 (1, 0),\n",
       " <Attendance>: 12 : 2023-08-16 11:53:39 (1, 0),\n",
       " <Attendance>: 1 : 2023-08-16 18:00:37 (15, 0),\n",
       " <Attendance>: 11 : 2023-08-17 09:34:20 (1, 0),\n",
       " <Attendance>: 12 : 2023-08-17 10:20:34 (1, 0),\n",
       " <Attendance>: 1 : 2023-08-17 17:57:40 (15, 0),\n",
       " <Attendance>: 11 : 2023-08-18 09:37:52 (1, 0),\n",
       " <Attendance>: 12 : 2023-08-18 10:24:24 (1, 0),\n",
       " <Attendance>: 12 : 2023-08-18 18:54:56 (1, 0),\n",
       " <Attendance>: 11 : 2023-08-21 09:38:03 (1, 0),\n",
       " <Attendance>: 12 : 2023-08-21 10:04:45 (1, 0),\n",
       " <Attendance>: 1 : 2023-08-21 13:21:15 (1, 0),\n",
       " <Attendance>: 12 : 2023-08-21 19:01:50 (1, 1),\n",
       " <Attendance>: 11 : 2023-08-21 19:01:56 (1, 1),\n",
       " <Attendance>: 11 : 2023-08-22 09:44:31 (1, 0),\n",
       " <Attendance>: 12 : 2023-08-22 10:18:05 (1, 0),\n",
       " <Attendance>: 1 : 2023-08-22 10:29:34 (15, 0),\n",
       " <Attendance>: 12 : 2023-08-22 18:48:47 (1, 1),\n",
       " <Attendance>: 11 : 2023-08-22 18:49:16 (1, 1),\n",
       " <Attendance>: 11 : 2023-08-23 09:47:15 (1, 0),\n",
       " <Attendance>: 1 : 2023-08-23 10:36:03 (15, 0),\n",
       " <Attendance>: 12 : 2023-08-23 10:36:08 (1, 0),\n",
       " <Attendance>: 12 : 2023-08-23 19:04:13 (1, 1),\n",
       " <Attendance>: 11 : 2023-08-23 19:04:23 (1, 1),\n",
       " <Attendance>: 11 : 2023-08-24 09:45:41 (1, 0),\n",
       " <Attendance>: 12 : 2023-08-24 10:11:11 (1, 0),\n",
       " <Attendance>: 11 : 2023-08-24 18:57:05 (1, 1),\n",
       " <Attendance>: 11 : 2023-08-25 09:53:09 (1, 0),\n",
       " <Attendance>: 12 : 2023-08-25 10:17:49 (1, 0),\n",
       " <Attendance>: 11 : 2023-08-25 18:56:20 (1, 1),\n",
       " <Attendance>: 12 : 2023-08-25 18:56:28 (1, 1),\n",
       " <Attendance>: 11 : 2023-08-28 09:57:13 (1, 0),\n",
       " <Attendance>: 12 : 2023-08-28 10:44:37 (1, 0),\n",
       " <Attendance>: 11 : 2023-08-28 18:53:06 (1, 1),\n",
       " <Attendance>: 12 : 2023-08-28 18:53:16 (1, 1),\n",
       " <Attendance>: 11 : 2023-08-29 09:51:51 (1, 0),\n",
       " <Attendance>: 12 : 2023-08-29 10:15:46 (1, 0),\n",
       " <Attendance>: 11 : 2023-08-29 18:56:02 (1, 1),\n",
       " <Attendance>: 12 : 2023-08-29 18:56:09 (1, 1),\n",
       " <Attendance>: 11 : 2023-08-30 09:55:01 (1, 0),\n",
       " <Attendance>: 12 : 2023-08-30 10:21:40 (1, 0),\n",
       " <Attendance>: 13 : 2023-08-30 12:27:35 (1, 0),\n",
       " <Attendance>: 11 : 2023-08-30 18:54:17 (1, 1),\n",
       " <Attendance>: 12 : 2023-08-30 18:54:26 (1, 1),\n",
       " <Attendance>: 13 : 2023-08-30 19:02:07 (1, 1),\n",
       " <Attendance>: 13 : 2023-08-31 09:16:16 (1, 0),\n",
       " <Attendance>: 11 : 2023-08-31 10:05:17 (1, 0),\n",
       " <Attendance>: 1 : 2023-08-31 10:23:16 (15, 0),\n",
       " <Attendance>: 12 : 2023-08-31 10:46:10 (1, 0),\n",
       " <Attendance>: 11 : 2023-08-31 19:01:52 (1, 1),\n",
       " <Attendance>: 12 : 2023-08-31 19:02:01 (1, 1),\n",
       " <Attendance>: 11 : 2023-09-01 09:53:03 (1, 0),\n",
       " <Attendance>: 1 : 2023-09-01 10:02:42 (15, 0),\n",
       " <Attendance>: 12 : 2023-09-01 10:13:03 (1, 0),\n",
       " <Attendance>: 12 : 2023-09-01 18:21:47 (1, 1),\n",
       " <Attendance>: 12 : 2023-09-01 18:23:24 (1, 1),\n",
       " <Attendance>: 1 : 2023-09-01 18:23:32 (1, 1),\n",
       " <Attendance>: 12 : 2023-09-01 18:25:43 (1, 1),\n",
       " <Attendance>: 14 : 2023-09-01 18:42:44 (1, 1),\n",
       " <Attendance>: 15 : 2023-09-01 18:45:59 (1, 1),\n",
       " <Attendance>: 16 : 2023-09-01 18:49:41 (1, 1),\n",
       " <Attendance>: 12 : 2023-09-01 18:58:18 (1, 1),\n",
       " <Attendance>: 11 : 2023-09-01 18:58:25 (1, 1),\n",
       " <Attendance>: 15 : 2023-09-01 18:58:50 (1, 1),\n",
       " <Attendance>: 16 : 2023-09-01 18:58:58 (1, 1),\n",
       " <Attendance>: 11 : 2023-09-04 09:49:41 (1, 0),\n",
       " <Attendance>: 15 : 2023-09-04 09:49:49 (1, 0),\n",
       " <Attendance>: 16 : 2023-09-04 09:57:59 (1, 0),\n",
       " <Attendance>: 14 : 2023-09-04 10:08:44 (1, 0),\n",
       " <Attendance>: 12 : 2023-09-04 10:09:16 (1, 0),\n",
       " <Attendance>: 1 : 2023-09-04 10:09:23 (15, 0),\n",
       " <Attendance>: 16 : 2023-09-04 16:18:42 (1, 0),\n",
       " <Attendance>: 16 : 2023-09-04 17:05:11 (1, 0)]"
      ]
     },
     "execution_count": 15,
     "metadata": {},
     "output_type": "execute_result"
    }
   ],
   "source": [
    "attendances\n"
   ]
  },
  {
   "cell_type": "code",
   "execution_count": 16,
   "id": "d339e056",
   "metadata": {},
   "outputs": [
    {
     "name": "stdout",
     "output_type": "stream",
     "text": [
      "[<Attendance>: 1 : 2023-07-24 12:48:56 (15, 0), <Attendance>: 1 : 2023-07-24 12:54:30 (15, 0), <Attendance>: 1 : 2023-07-24 14:48:47 (15, 0), <Attendance>: 1 : 2023-07-24 14:58:51 (15, 0), <Attendance>: 1 : 2023-07-24 15:11:04 (15, 0), <Attendance>: 2 : 2023-08-09 14:03:50 (15, 0), <Attendance>: 1 : 2023-08-15 11:48:58 (15, 0), <Attendance>: 1 : 2023-08-16 10:07:16 (15, 0), <Attendance>: 1 : 2023-08-16 10:50:11 (15, 0), <Attendance>: 1 : 2023-08-16 11:18:20 (1, 0), <Attendance>: 11 : 2023-08-16 11:34:04 (1, 0), <Attendance>: 12 : 2023-08-16 11:53:39 (1, 0), <Attendance>: 1 : 2023-08-16 18:00:37 (15, 0), <Attendance>: 11 : 2023-08-17 09:34:20 (1, 0), <Attendance>: 12 : 2023-08-17 10:20:34 (1, 0), <Attendance>: 1 : 2023-08-17 17:57:40 (15, 0), <Attendance>: 11 : 2023-08-18 09:37:52 (1, 0), <Attendance>: 12 : 2023-08-18 10:24:24 (1, 0), <Attendance>: 12 : 2023-08-18 18:54:56 (1, 0), <Attendance>: 11 : 2023-08-21 09:38:03 (1, 0), <Attendance>: 12 : 2023-08-21 10:04:45 (1, 0), <Attendance>: 1 : 2023-08-21 13:21:15 (1, 0), <Attendance>: 12 : 2023-08-21 19:01:50 (1, 1), <Attendance>: 11 : 2023-08-21 19:01:56 (1, 1), <Attendance>: 11 : 2023-08-22 09:44:31 (1, 0), <Attendance>: 12 : 2023-08-22 10:18:05 (1, 0), <Attendance>: 1 : 2023-08-22 10:29:34 (15, 0), <Attendance>: 12 : 2023-08-22 18:48:47 (1, 1), <Attendance>: 11 : 2023-08-22 18:49:16 (1, 1), <Attendance>: 11 : 2023-08-23 09:47:15 (1, 0), <Attendance>: 1 : 2023-08-23 10:36:03 (15, 0), <Attendance>: 12 : 2023-08-23 10:36:08 (1, 0), <Attendance>: 12 : 2023-08-23 19:04:13 (1, 1), <Attendance>: 11 : 2023-08-23 19:04:23 (1, 1), <Attendance>: 11 : 2023-08-24 09:45:41 (1, 0), <Attendance>: 12 : 2023-08-24 10:11:11 (1, 0), <Attendance>: 11 : 2023-08-24 18:57:05 (1, 1), <Attendance>: 11 : 2023-08-25 09:53:09 (1, 0), <Attendance>: 12 : 2023-08-25 10:17:49 (1, 0), <Attendance>: 11 : 2023-08-25 18:56:20 (1, 1), <Attendance>: 12 : 2023-08-25 18:56:28 (1, 1), <Attendance>: 11 : 2023-08-28 09:57:13 (1, 0), <Attendance>: 12 : 2023-08-28 10:44:37 (1, 0), <Attendance>: 11 : 2023-08-28 18:53:06 (1, 1), <Attendance>: 12 : 2023-08-28 18:53:16 (1, 1), <Attendance>: 11 : 2023-08-29 09:51:51 (1, 0), <Attendance>: 12 : 2023-08-29 10:15:46 (1, 0), <Attendance>: 11 : 2023-08-29 18:56:02 (1, 1), <Attendance>: 12 : 2023-08-29 18:56:09 (1, 1), <Attendance>: 11 : 2023-08-30 09:55:01 (1, 0), <Attendance>: 12 : 2023-08-30 10:21:40 (1, 0), <Attendance>: 13 : 2023-08-30 12:27:35 (1, 0), <Attendance>: 11 : 2023-08-30 18:54:17 (1, 1), <Attendance>: 12 : 2023-08-30 18:54:26 (1, 1), <Attendance>: 13 : 2023-08-30 19:02:07 (1, 1), <Attendance>: 13 : 2023-08-31 09:16:16 (1, 0), <Attendance>: 11 : 2023-08-31 10:05:17 (1, 0), <Attendance>: 1 : 2023-08-31 10:23:16 (15, 0), <Attendance>: 12 : 2023-08-31 10:46:10 (1, 0), <Attendance>: 11 : 2023-08-31 19:01:52 (1, 1), <Attendance>: 12 : 2023-08-31 19:02:01 (1, 1), <Attendance>: 11 : 2023-09-01 09:53:03 (1, 0), <Attendance>: 1 : 2023-09-01 10:02:42 (15, 0), <Attendance>: 12 : 2023-09-01 10:13:03 (1, 0), <Attendance>: 12 : 2023-09-01 18:21:47 (1, 1), <Attendance>: 12 : 2023-09-01 18:23:24 (1, 1), <Attendance>: 1 : 2023-09-01 18:23:32 (1, 1), <Attendance>: 12 : 2023-09-01 18:25:43 (1, 1), <Attendance>: 14 : 2023-09-01 18:42:44 (1, 1), <Attendance>: 15 : 2023-09-01 18:45:59 (1, 1), <Attendance>: 16 : 2023-09-01 18:49:41 (1, 1), <Attendance>: 12 : 2023-09-01 18:58:18 (1, 1), <Attendance>: 11 : 2023-09-01 18:58:25 (1, 1), <Attendance>: 15 : 2023-09-01 18:58:50 (1, 1), <Attendance>: 16 : 2023-09-01 18:58:58 (1, 1), <Attendance>: 11 : 2023-09-04 09:49:41 (1, 0), <Attendance>: 15 : 2023-09-04 09:49:49 (1, 0), <Attendance>: 16 : 2023-09-04 09:57:59 (1, 0), <Attendance>: 14 : 2023-09-04 10:08:44 (1, 0), <Attendance>: 12 : 2023-09-04 10:09:16 (1, 0), <Attendance>: 1 : 2023-09-04 10:09:23 (15, 0), <Attendance>: 16 : 2023-09-04 16:18:42 (1, 0), <Attendance>: 16 : 2023-09-04 17:05:11 (1, 0)]\n"
     ]
    }
   ],
   "source": [
    "print(attendances)"
   ]
  },
  {
   "cell_type": "code",
   "execution_count": 17,
   "id": "322b1989",
   "metadata": {},
   "outputs": [],
   "source": [
    " users = conn.get_users()"
   ]
  },
  {
   "cell_type": "code",
   "execution_count": 18,
   "id": "01882b5b",
   "metadata": {},
   "outputs": [
    {
     "data": {
      "text/plain": [
       "[<User>: [uid:1, name:Danyal user_id:1],\n",
       " <User>: [uid:2, name:Hassan user_id:2],\n",
       " <User>: [uid:3, name:Raffey user_id:11],\n",
       " <User>: [uid:4, name:Fahad user_id:12],\n",
       " <User>: [uid:5, name:Shahid user_id:13],\n",
       " <User>: [uid:6, name:NN-14 user_id:14],\n",
       " <User>: [uid:7, name:NN-15 user_id:15],\n",
       " <User>: [uid:8, name:Abdul Rehman user_id:16]]"
      ]
     },
     "execution_count": 18,
     "metadata": {},
     "output_type": "execute_result"
    }
   ],
   "source": [
    "users"
   ]
  },
  {
   "cell_type": "code",
   "execution_count": 20,
   "id": "9fafc0cf",
   "metadata": {},
   "outputs": [
    {
     "name": "stdout",
     "output_type": "stream",
     "text": [
      "[<User>: [uid:1, name:Danyal user_id:1], <User>: [uid:2, name:Hassan user_id:2], <User>: [uid:3, name:Raffey user_id:11], <User>: [uid:4, name:Fahad user_id:12], <User>: [uid:5, name:Shahid user_id:13], <User>: [uid:6, name:NN-14 user_id:14], <User>: [uid:7, name:NN-15 user_id:15], <User>: [uid:8, name:Abdul Rehman user_id:16]]\n"
     ]
    }
   ],
   "source": [
    "print(users)"
   ]
  },
  {
   "cell_type": "code",
   "execution_count": 21,
   "id": "afd6feca",
   "metadata": {},
   "outputs": [],
   "source": [
    "import pandas as pd\n"
   ]
  },
  {
   "cell_type": "code",
   "execution_count": 22,
   "id": "a1cdca15",
   "metadata": {},
   "outputs": [],
   "source": [
    "df = pd.DataFrame(users)"
   ]
  },
  {
   "cell_type": "code",
   "execution_count": 23,
   "id": "4fedf55d",
   "metadata": {
    "scrolled": true
   },
   "outputs": [
    {
     "name": "stdout",
     "output_type": "stream",
     "text": [
      "                                               0\n",
      "0         <User>: [uid:1, name:Danyal user_id:1]\n",
      "1         <User>: [uid:2, name:Hassan user_id:2]\n",
      "2        <User>: [uid:3, name:Raffey user_id:11]\n",
      "3         <User>: [uid:4, name:Fahad user_id:12]\n",
      "4        <User>: [uid:5, name:Shahid user_id:13]\n",
      "5         <User>: [uid:6, name:NN-14 user_id:14]\n",
      "6         <User>: [uid:7, name:NN-15 user_id:15]\n",
      "7  <User>: [uid:8, name:Abdul Rehman user_id:16]\n"
     ]
    }
   ],
   "source": [
    "print(df)"
   ]
  },
  {
   "cell_type": "markdown",
   "id": "dac8e8f3",
   "metadata": {},
   "source": [
    " import pandas as pd\n",
    "import re\n",
    "\n",
    "#The list of user strings\n",
    "users = [\n",
    "    \"<User>: [uid:1, name:Danyal user_id:1]\",\n",
    "    \"<User>: [uid:2, name:Hassan user_id:2]\",\n",
    "    \"<User>: [uid:3, name:Raffey user_id:11]\",\n",
    "    \"<User>: [uid:4, name:Fahad user_id:12]\",\n",
    "    \"<User>: [uid:5, name:Shahid user_id:13]\",\n",
    "    \"<User>: [uid:6, name:NN-14 user_id:14]\",\n",
    "    \"<User>: [uid:7, name:NN-15 user_id:15]\",\n",
    "    \"<User>: [uid:8, name:Abdul Rehman user_id:16]\"\n",
    "]\n",
    "\n",
    "# Define regular expressions to extract information\n",
    "uid_pattern = r\"uid:(\\d+)\"\n",
    "name_pattern = r\"name:(\\w+)\"\n",
    "user_id_pattern = r\"user_id:(\\d+)\"\n",
    "\n",
    "# Extract data and create a list of dictionaries\n",
    "data = []\n",
    "for user_string in users:\n",
    "    uid_match = re.search(uid_pattern, user_string)\n",
    "    name_match = re.search(name_pattern, user_string)\n",
    "    user_id_match = re.search(user_id_pattern, user_string)\n",
    "    \n",
    "    if uid_match and name_match and user_id_match:\n",
    "        uid = int(uid_match.group(1))\n",
    "        name = name_match.group(1)\n",
    "        user_id = int(user_id_match.group(1))\n",
    "        \n",
    "        data.append({\"uid\": uid, \"name\": name, \"user_id\": user_id})\n",
    "\n",
    "# Create a DataFrame from the list of dictionaries\n",
    "df = pd.DataFrame(data)\n",
    "\n",
    "# Display the DataFrame\n",
    "print(df)\n"
   ]
  },
  {
   "cell_type": "code",
   "execution_count": 1,
   "id": "5cfadcaf",
   "metadata": {},
   "outputs": [
    {
     "name": "stdout",
     "output_type": "stream",
     "text": [
      "   uid    name  user_id\n",
      "0    1  Danyal        1\n",
      "1    2  Hassan        2\n",
      "2    3  Raffey       11\n",
      "3    4   Fahad       12\n",
      "4    5  Shahid       13\n",
      "5    6      NN       14\n",
      "6    7      NN       15\n",
      "7    8   Abdul       16\n"
     ]
    }
   ],
   "source": [
    "import pandas as pd\n",
    "import re\n",
    "\n",
    "# The list of user strings\n",
    "users = [\n",
    "    \"<User>: [uid:1, name:Danyal user_id:1]\",\n",
    "    \"<User>: [uid:2, name:Hassan user_id:2]\",\n",
    "    \"<User>: [uid:3, name:Raffey user_id:11]\",\n",
    "    \"<User>: [uid:4, name:Fahad user_id:12]\",\n",
    "    \"<User>: [uid:5, name:Shahid user_id:13]\",\n",
    "    \"<User>: [uid:6, name:NN-14 user_id:14]\",\n",
    "    \"<User>: [uid:7, name:NN-15 user_id:15]\",\n",
    "    \"<User>: [uid:8, name:Abdul Rehman user_id:16]\"\n",
    "]\n",
    "\n",
    "# Define regular expressions to extract information\n",
    "uid_pattern = r\"uid:(\\d+)\"\n",
    "name_pattern = r\"name:(\\w+)\"\n",
    "user_id_pattern = r\"user_id:(\\d+)\"\n",
    "\n",
    "# Extract data and create a list of dictionaries\n",
    "data = []\n",
    "for user_string in users:\n",
    "    uid_match = re.search(uid_pattern, user_string)\n",
    "    name_match = re.search(name_pattern, user_string)\n",
    "    user_id_match = re.search(user_id_pattern, user_string)\n",
    "    \n",
    "    if uid_match and name_match and user_id_match:\n",
    "        uid = int(uid_match.group(1))\n",
    "        name = name_match.group(1)\n",
    "        user_id = int(user_id_match.group(1))\n",
    "        \n",
    "        data.append({\"uid\": uid, \"name\": name, \"user_id\": user_id})\n",
    "\n",
    "# Create a DataFrame from the list of dictionaries\n",
    "df = pd.DataFrame(data)\n",
    "\n",
    "# Display the DataFrame\n",
    "print(df)\n"
   ]
  },
  {
   "cell_type": "code",
   "execution_count": 8,
   "id": "b9f0c4ac",
   "metadata": {},
   "outputs": [
    {
     "name": "stdout",
     "output_type": "stream",
     "text": [
      "   uid    name  user_id\n",
      "0    1  Danyal        1\n",
      "1    2  Hassan        2\n",
      "2    3  Raffey       11\n",
      "3    4   Fahad       12\n",
      "4    5  Shahid       13\n",
      "5    6      NN       14\n",
      "6    7      NN       15\n",
      "7    8   Abdul       16\n"
     ]
    }
   ],
   "source": [
    "print(df)"
   ]
  },
  {
   "cell_type": "code",
   "execution_count": 3,
   "id": "f527e430",
   "metadata": {},
   "outputs": [],
   "source": [
    "import sys\n",
    "sys.path.append('/path/to/pyzk')\n"
   ]
  },
  {
   "cell_type": "code",
   "execution_count": 9,
   "id": "24698e13",
   "metadata": {},
   "outputs": [
    {
     "name": "stdout",
     "output_type": "stream",
     "text": [
      "Error: name 'cursor' is not defined\n"
     ]
    },
    {
     "ename": "NameError",
     "evalue": "name 'cursor' is not defined",
     "output_type": "error",
     "traceback": [
      "\u001b[1;31m---------------------------------------------------------------------------\u001b[0m",
      "\u001b[1;31mNameError\u001b[0m                                 Traceback (most recent call last)",
      "Cell \u001b[1;32mIn[9], line 8\u001b[0m\n\u001b[0;32m      7\u001b[0m val \u001b[38;5;241m=\u001b[39m (row[\u001b[38;5;124m'\u001b[39m\u001b[38;5;124muser_id\u001b[39m\u001b[38;5;124m'\u001b[39m], row[\u001b[38;5;124m'\u001b[39m\u001b[38;5;124muser_id\u001b[39m\u001b[38;5;124m'\u001b[39m], row[\u001b[38;5;124m'\u001b[39m\u001b[38;5;124mname\u001b[39m\u001b[38;5;124m'\u001b[39m], \u001b[38;5;28;01mNone\u001b[39;00m, \u001b[38;5;28;01mNone\u001b[39;00m, \u001b[38;5;28;01mNone\u001b[39;00m)\n\u001b[1;32m----> 8\u001b[0m cursor\u001b[38;5;241m.\u001b[39mexecute(sql, val)\n\u001b[0;32m      9\u001b[0m conn\u001b[38;5;241m.\u001b[39mcommit()\n",
      "\u001b[1;31mNameError\u001b[0m: name 'cursor' is not defined",
      "\nDuring handling of the above exception, another exception occurred:\n",
      "\u001b[1;31mNameError\u001b[0m                                 Traceback (most recent call last)",
      "Cell \u001b[1;32mIn[9], line 13\u001b[0m\n\u001b[0;32m     12\u001b[0m     \u001b[38;5;28mprint\u001b[39m(\u001b[38;5;124m\"\u001b[39m\u001b[38;5;124mError:\u001b[39m\u001b[38;5;124m\"\u001b[39m, e)\n\u001b[1;32m---> 13\u001b[0m     conn\u001b[38;5;241m.\u001b[39mrollback()  \u001b[38;5;66;03m# Roll back the transaction if an error occurs\u001b[39;00m\n\u001b[0;32m     15\u001b[0m \u001b[38;5;28;01mfinally\u001b[39;00m:\n",
      "\u001b[1;31mNameError\u001b[0m: name 'conn' is not defined",
      "\nDuring handling of the above exception, another exception occurred:\n",
      "\u001b[1;31mNameError\u001b[0m                                 Traceback (most recent call last)",
      "Cell \u001b[1;32mIn[9], line 16\u001b[0m\n\u001b[0;32m     13\u001b[0m     conn\u001b[38;5;241m.\u001b[39mrollback()  \u001b[38;5;66;03m# Roll back the transaction if an error occurs\u001b[39;00m\n\u001b[0;32m     15\u001b[0m \u001b[38;5;28;01mfinally\u001b[39;00m:\n\u001b[1;32m---> 16\u001b[0m     cursor\u001b[38;5;241m.\u001b[39mclose()\n\u001b[0;32m     17\u001b[0m     conn\u001b[38;5;241m.\u001b[39mclose()\n",
      "\u001b[1;31mNameError\u001b[0m: name 'cursor' is not defined"
     ]
    }
   ],
   "source": [
    "# Define the SQL query for inserting data into ZKTecoData table\n",
    "sql = \"INSERT INTO ZKTecoData (id, Acc_No, Name, sTime, Machine, VerifyMode) VALUES (?, ?, ?, ?, ?, ?)\"\n",
    "\n",
    "try:\n",
    "    # Iterate through rows of the dataframe and insert into SQL Server\n",
    "    for index, row in df.iterrows():\n",
    "        val = (row['user_id'], row['user_id'], row['name'], None, None, None)\n",
    "        cursor.execute(sql, val)\n",
    "        conn.commit()\n",
    "\n",
    "except Exception as e:\n",
    "    print(\"Error:\", e)\n",
    "    conn.rollback()  # Roll back the transaction if an error occurs\n",
    "\n",
    "finally:\n",
    "    cursor.close()\n",
    "    conn.close()\n"
   ]
  },
  {
   "cell_type": "code",
   "execution_count": 7,
   "id": "de6b1c9c",
   "metadata": {},
   "outputs": [
    {
     "name": "stdout",
     "output_type": "stream",
     "text": [
      "Error: 'ID'\n"
     ]
    },
    {
     "ename": "NameError",
     "evalue": "name 'cursor' is not defined",
     "output_type": "error",
     "traceback": [
      "\u001b[1;31m---------------------------------------------------------------------------\u001b[0m",
      "\u001b[1;31mKeyError\u001b[0m                                  Traceback (most recent call last)",
      "File \u001b[1;32m~\\anaconda3\\Lib\\site-packages\\pandas\\core\\indexes\\base.py:3802\u001b[0m, in \u001b[0;36mIndex.get_loc\u001b[1;34m(self, key, method, tolerance)\u001b[0m\n\u001b[0;32m   3801\u001b[0m \u001b[38;5;28;01mtry\u001b[39;00m:\n\u001b[1;32m-> 3802\u001b[0m     \u001b[38;5;28;01mreturn\u001b[39;00m \u001b[38;5;28mself\u001b[39m\u001b[38;5;241m.\u001b[39m_engine\u001b[38;5;241m.\u001b[39mget_loc(casted_key)\n\u001b[0;32m   3803\u001b[0m \u001b[38;5;28;01mexcept\u001b[39;00m \u001b[38;5;167;01mKeyError\u001b[39;00m \u001b[38;5;28;01mas\u001b[39;00m err:\n",
      "File \u001b[1;32m~\\anaconda3\\Lib\\site-packages\\pandas\\_libs\\index.pyx:138\u001b[0m, in \u001b[0;36mpandas._libs.index.IndexEngine.get_loc\u001b[1;34m()\u001b[0m\n",
      "File \u001b[1;32m~\\anaconda3\\Lib\\site-packages\\pandas\\_libs\\index.pyx:165\u001b[0m, in \u001b[0;36mpandas._libs.index.IndexEngine.get_loc\u001b[1;34m()\u001b[0m\n",
      "File \u001b[1;32mpandas\\_libs\\hashtable_class_helper.pxi:5745\u001b[0m, in \u001b[0;36mpandas._libs.hashtable.PyObjectHashTable.get_item\u001b[1;34m()\u001b[0m\n",
      "File \u001b[1;32mpandas\\_libs\\hashtable_class_helper.pxi:5753\u001b[0m, in \u001b[0;36mpandas._libs.hashtable.PyObjectHashTable.get_item\u001b[1;34m()\u001b[0m\n",
      "\u001b[1;31mKeyError\u001b[0m: 'ID'",
      "\nThe above exception was the direct cause of the following exception:\n",
      "\u001b[1;31mKeyError\u001b[0m                                  Traceback (most recent call last)",
      "Cell \u001b[1;32mIn[7], line 8\u001b[0m\n\u001b[0;32m      7\u001b[0m \u001b[38;5;28;01mfor\u001b[39;00m index, row \u001b[38;5;129;01min\u001b[39;00m df\u001b[38;5;241m.\u001b[39miterrows():\n\u001b[1;32m----> 8\u001b[0m     val \u001b[38;5;241m=\u001b[39m (row[\u001b[38;5;124m'\u001b[39m\u001b[38;5;124mID\u001b[39m\u001b[38;5;124m'\u001b[39m], row[\u001b[38;5;124m'\u001b[39m\u001b[38;5;124mAcc_No\u001b[39m\u001b[38;5;124m'\u001b[39m], row[\u001b[38;5;124m'\u001b[39m\u001b[38;5;124mName\u001b[39m\u001b[38;5;124m'\u001b[39m], row[\u001b[38;5;124m'\u001b[39m\u001b[38;5;124msTime\u001b[39m\u001b[38;5;124m'\u001b[39m], row[\u001b[38;5;124m'\u001b[39m\u001b[38;5;124mMachine\u001b[39m\u001b[38;5;124m'\u001b[39m], row[\u001b[38;5;124m'\u001b[39m\u001b[38;5;124mVerifyMode\u001b[39m\u001b[38;5;124m'\u001b[39m])\n\u001b[0;32m      9\u001b[0m     cursor\u001b[38;5;241m.\u001b[39mexecute(sql, val)\n",
      "File \u001b[1;32m~\\anaconda3\\Lib\\site-packages\\pandas\\core\\series.py:981\u001b[0m, in \u001b[0;36mSeries.__getitem__\u001b[1;34m(self, key)\u001b[0m\n\u001b[0;32m    980\u001b[0m \u001b[38;5;28;01melif\u001b[39;00m key_is_scalar:\n\u001b[1;32m--> 981\u001b[0m     \u001b[38;5;28;01mreturn\u001b[39;00m \u001b[38;5;28mself\u001b[39m\u001b[38;5;241m.\u001b[39m_get_value(key)\n\u001b[0;32m    983\u001b[0m \u001b[38;5;28;01mif\u001b[39;00m is_hashable(key):\n\u001b[0;32m    984\u001b[0m     \u001b[38;5;66;03m# Otherwise index.get_value will raise InvalidIndexError\u001b[39;00m\n",
      "File \u001b[1;32m~\\anaconda3\\Lib\\site-packages\\pandas\\core\\series.py:1089\u001b[0m, in \u001b[0;36mSeries._get_value\u001b[1;34m(self, label, takeable)\u001b[0m\n\u001b[0;32m   1088\u001b[0m \u001b[38;5;66;03m# Similar to Index.get_value, but we do not fall back to positional\u001b[39;00m\n\u001b[1;32m-> 1089\u001b[0m loc \u001b[38;5;241m=\u001b[39m \u001b[38;5;28mself\u001b[39m\u001b[38;5;241m.\u001b[39mindex\u001b[38;5;241m.\u001b[39mget_loc(label)\n\u001b[0;32m   1090\u001b[0m \u001b[38;5;28;01mreturn\u001b[39;00m \u001b[38;5;28mself\u001b[39m\u001b[38;5;241m.\u001b[39mindex\u001b[38;5;241m.\u001b[39m_get_values_for_loc(\u001b[38;5;28mself\u001b[39m, loc, label)\n",
      "File \u001b[1;32m~\\anaconda3\\Lib\\site-packages\\pandas\\core\\indexes\\base.py:3804\u001b[0m, in \u001b[0;36mIndex.get_loc\u001b[1;34m(self, key, method, tolerance)\u001b[0m\n\u001b[0;32m   3803\u001b[0m \u001b[38;5;28;01mexcept\u001b[39;00m \u001b[38;5;167;01mKeyError\u001b[39;00m \u001b[38;5;28;01mas\u001b[39;00m err:\n\u001b[1;32m-> 3804\u001b[0m     \u001b[38;5;28;01mraise\u001b[39;00m \u001b[38;5;167;01mKeyError\u001b[39;00m(key) \u001b[38;5;28;01mfrom\u001b[39;00m \u001b[38;5;21;01merr\u001b[39;00m\n\u001b[0;32m   3805\u001b[0m \u001b[38;5;28;01mexcept\u001b[39;00m \u001b[38;5;167;01mTypeError\u001b[39;00m:\n\u001b[0;32m   3806\u001b[0m     \u001b[38;5;66;03m# If we have a listlike key, _check_indexing_error will raise\u001b[39;00m\n\u001b[0;32m   3807\u001b[0m     \u001b[38;5;66;03m#  InvalidIndexError. Otherwise we fall through and re-raise\u001b[39;00m\n\u001b[0;32m   3808\u001b[0m     \u001b[38;5;66;03m#  the TypeError.\u001b[39;00m\n",
      "\u001b[1;31mKeyError\u001b[0m: 'ID'",
      "\nDuring handling of the above exception, another exception occurred:\n",
      "\u001b[1;31mNameError\u001b[0m                                 Traceback (most recent call last)",
      "Cell \u001b[1;32mIn[7], line 14\u001b[0m\n\u001b[0;32m     13\u001b[0m     \u001b[38;5;28mprint\u001b[39m(\u001b[38;5;124m\"\u001b[39m\u001b[38;5;124mError:\u001b[39m\u001b[38;5;124m\"\u001b[39m, e)\n\u001b[1;32m---> 14\u001b[0m     conn\u001b[38;5;241m.\u001b[39mrollback()  \u001b[38;5;66;03m# Roll back the transaction if an error occurs\u001b[39;00m\n\u001b[0;32m     16\u001b[0m \u001b[38;5;28;01mfinally\u001b[39;00m:\n",
      "\u001b[1;31mNameError\u001b[0m: name 'conn' is not defined",
      "\nDuring handling of the above exception, another exception occurred:\n",
      "\u001b[1;31mNameError\u001b[0m                                 Traceback (most recent call last)",
      "Cell \u001b[1;32mIn[7], line 17\u001b[0m\n\u001b[0;32m     14\u001b[0m     conn\u001b[38;5;241m.\u001b[39mrollback()  \u001b[38;5;66;03m# Roll back the transaction if an error occurs\u001b[39;00m\n\u001b[0;32m     16\u001b[0m \u001b[38;5;28;01mfinally\u001b[39;00m:\n\u001b[1;32m---> 17\u001b[0m     cursor\u001b[38;5;241m.\u001b[39mclose()\n\u001b[0;32m     18\u001b[0m     conn\u001b[38;5;241m.\u001b[39mclose()\n",
      "\u001b[1;31mNameError\u001b[0m: name 'cursor' is not defined"
     ]
    }
   ],
   "source": [
    "import pandas as pd\n",
    "# Define the SQL query for inserting data into ZKTecoData table\n",
    "sql = \"INSERT INTO ZKTecoData (id, Acc_No, Name, sTime, Machine, VerifyMode) VALUES (?, ?, ?, ?, ?, ?)\"\n",
    "\n",
    "try:\n",
    "    # Iterate through rows of the dataframe and insert into SQL Server\n",
    "    for index, row in df.iterrows():\n",
    "        val = (row['ID'], row['Acc_No'], row['Name'], row['sTime'], row['Machine'], row['VerifyMode'])\n",
    "        cursor.execute(sql, val)\n",
    "        conn.commit()\n",
    "\n",
    "except Exception as e:\n",
    "    print(\"Error:\", e)\n",
    "    conn.rollback()  # Roll back the transaction if an error occurs\n",
    "\n",
    "finally:\n",
    "    cursor.close()\n",
    "    conn.close()\n"
   ]
  },
  {
   "cell_type": "code",
   "execution_count": 10,
   "id": "fcbb470c",
   "metadata": {},
   "outputs": [
    {
     "ename": "InterfaceError",
     "evalue": "('28000', \"[28000] [Microsoft][ODBC SQL Server Driver][SQL Server]Login failed for user 'ZKTecoUser1'. (18456) (SQLDriverConnect); [28000] [Microsoft][ODBC SQL Server Driver][SQL Server]Login failed for user 'ZKTecoUser1'. (18456)\")",
     "output_type": "error",
     "traceback": [
      "\u001b[1;31m---------------------------------------------------------------------------\u001b[0m",
      "\u001b[1;31mInterfaceError\u001b[0m                            Traceback (most recent call last)",
      "Cell \u001b[1;32mIn[10], line 11\u001b[0m\n\u001b[0;32m      8\u001b[0m password \u001b[38;5;241m=\u001b[39m \u001b[38;5;124m'\u001b[39m\u001b[38;5;124mRocketDigitals\u001b[39m\u001b[38;5;124m'\u001b[39m\n\u001b[0;32m     10\u001b[0m \u001b[38;5;66;03m# Create a connection to SQL Server\u001b[39;00m\n\u001b[1;32m---> 11\u001b[0m conn \u001b[38;5;241m=\u001b[39m pyodbc\u001b[38;5;241m.\u001b[39mconnect(\u001b[38;5;124mf\u001b[39m\u001b[38;5;124m'\u001b[39m\u001b[38;5;124mDRIVER=\u001b[39m\u001b[38;5;130;01m{{\u001b[39;00m\u001b[38;5;124mSQL Server\u001b[39m\u001b[38;5;130;01m}}\u001b[39;00m\u001b[38;5;124m;SERVER=\u001b[39m\u001b[38;5;132;01m{\u001b[39;00mserver\u001b[38;5;132;01m}\u001b[39;00m\u001b[38;5;124m;DATABASE=\u001b[39m\u001b[38;5;132;01m{\u001b[39;00mdatabase\u001b[38;5;132;01m}\u001b[39;00m\u001b[38;5;124m;UID=\u001b[39m\u001b[38;5;132;01m{\u001b[39;00musername\u001b[38;5;132;01m}\u001b[39;00m\u001b[38;5;124m;PWD=\u001b[39m\u001b[38;5;132;01m{\u001b[39;00mpassword\u001b[38;5;132;01m}\u001b[39;00m\u001b[38;5;124m'\u001b[39m)\n\u001b[0;32m     12\u001b[0m cursor \u001b[38;5;241m=\u001b[39m conn\u001b[38;5;241m.\u001b[39mcursor()\n\u001b[0;32m     14\u001b[0m \u001b[38;5;66;03m# Define the SQL query for inserting data into the Users table\u001b[39;00m\n",
      "\u001b[1;31mInterfaceError\u001b[0m: ('28000', \"[28000] [Microsoft][ODBC SQL Server Driver][SQL Server]Login failed for user 'ZKTecoUser1'. (18456) (SQLDriverConnect); [28000] [Microsoft][ODBC SQL Server Driver][SQL Server]Login failed for user 'ZKTecoUser1'. (18456)\")"
     ]
    }
   ],
   "source": [
    "import pyodbc\n",
    "import pandas as pd\n",
    "\n",
    "# Define the SQL Server connection parameters\n",
    "server = 'DESKTOP-51LBS5R\\SQLEXPRESS'\n",
    "database = 'DESKTOP-51LBS5R\\SQLEXPRESS'\n",
    "username = 'ZKTecoUser1'\n",
    "password = 'RocketDigitals'\n",
    "\n",
    "# Create a connection to SQL Server\n",
    "conn = pyodbc.connect(f'DRIVER={{SQL Server}};SERVER={server};DATABASE={database};UID={username};PWD={password}')\n",
    "cursor = conn.cursor()\n",
    "\n",
    "# Define the SQL query for inserting data into the Users table\n",
    "sql = \"INSERT INTO Users (uid, name, user_id) VALUES (?, ?, ?)\"\n",
    "\n",
    "try:\n",
    "    # Assuming df is your DataFrame with the user data\n",
    "    for index, row in df.iterrows():\n",
    "        val = (row['uid'], row['name'], row['user_id'])\n",
    "        cursor.execute(sql, val)\n",
    "        conn.commit()\n",
    "\n",
    "    print('Data transferred to SQL Server successfully.')\n",
    "\n",
    "except Exception as e:\n",
    "    print(\"Error:\", e)\n",
    "    conn.rollback()  # Roll back the transaction if an error occurs\n",
    "\n",
    "finally:\n",
    "    cursor.close()\n",
    "    conn.close()\n"
   ]
  },
  {
   "cell_type": "code",
   "execution_count": null,
   "id": "432c7132",
   "metadata": {},
   "outputs": [],
   "source": []
  }
 ],
 "metadata": {
  "kernelspec": {
   "display_name": "Python 3 (ipykernel)",
   "language": "python",
   "name": "python3"
  },
  "language_info": {
   "codemirror_mode": {
    "name": "ipython",
    "version": 3
   },
   "file_extension": ".py",
   "mimetype": "text/x-python",
   "name": "python",
   "nbconvert_exporter": "python",
   "pygments_lexer": "ipython3",
   "version": "3.11.4"
  }
 },
 "nbformat": 4,
 "nbformat_minor": 5
}
