{
 "cells": [
  {
   "cell_type": "code",
   "execution_count": 3,
   "id": "59d199db",
   "metadata": {},
   "outputs": [],
   "source": [
    "import pandas as pd\n",
    "import pyodbc\n",
    "import psycopg2\n",
    "\n",
    "# Connect to SQL Server\n",
    "conn_str = (\n",
    "    r'DRIVER={SQL SERVER};'\n",
    "    r'SERVER=DESKTOP-51LBS5R\\SQLEXPRESS;'\n",
    "    r'DATABASE=Attandance;'\n",
    "    r'Trusted_Connection=yes;'\n",
    ")\n",
    "cnxn = pyodbc.connect(conn_str)\n",
    "cursor = cnxn.cursor()\n",
    "\n"
   ]
  },
  {
   "cell_type": "code",
   "execution_count": 2,
   "id": "be3e5caf",
   "metadata": {},
   "outputs": [
    {
     "name": "stdout",
     "output_type": "stream",
     "text": [
      "Collecting psycopg2\n",
      "  Obtaining dependency information for psycopg2 from https://files.pythonhosted.org/packages/7b/69/3afcafc622a52bbe90da947411a063a6f33ecc7243bad7b31fe358db92ff/psycopg2-2.9.7-cp311-cp311-win_amd64.whl.metadata\n",
      "  Downloading psycopg2-2.9.7-cp311-cp311-win_amd64.whl.metadata (4.5 kB)\n",
      "Downloading psycopg2-2.9.7-cp311-cp311-win_amd64.whl (1.2 MB)\n",
      "   ---------------------------------------- 0.0/1.2 MB ? eta -:--:--\n",
      "   ---- ----------------------------------- 0.1/1.2 MB 3.5 MB/s eta 0:00:01\n",
      "   ------------ --------------------------- 0.4/1.2 MB 3.8 MB/s eta 0:00:01\n",
      "   --------------------------- ------------ 0.8/1.2 MB 6.3 MB/s eta 0:00:01\n",
      "   ---------------------------------------- 1.2/1.2 MB 6.7 MB/s eta 0:00:00\n",
      "Installing collected packages: psycopg2\n",
      "Successfully installed psycopg2-2.9.7\n"
     ]
    }
   ],
   "source": [
    "!pip install psycopg2"
   ]
  },
  {
   "cell_type": "code",
   "execution_count": 4,
   "id": "ee2ef2b6",
   "metadata": {},
   "outputs": [],
   "source": [
    "import pandas as pd\n",
    "import pyodbc\n",
    "import psycopg2\n",
    "\n",
    "# Connect to SQL Server\n",
    "conn_str = (\n",
    "    r'DRIVER={SQL SERVER};'\n",
    "    r'SERVER=DESKTOP-51LBS5R\\SQLEXPRESS;'\n",
    "    r'DATABASE=Attandance;'\n",
    "    r'Trusted_Connection=yes;'\n",
    ")\n",
    "cnxn = pyodbc.connect(conn_str)\n",
    "cursor = cnxn.cursor()\n"
   ]
  },
  {
   "cell_type": "code",
   "execution_count": 5,
   "id": "033c848f",
   "metadata": {},
   "outputs": [
    {
     "name": "stdout",
     "output_type": "stream",
     "text": [
      "Collecting pyzkaccess\n",
      "  Downloading pyzkaccess-1.0.tar.gz (62 kB)\n",
      "     ---------------------------------------- 0.0/62.7 kB ? eta -:--:--\n",
      "     ---------------------------------------- 62.7/62.7 kB 1.7 MB/s eta 0:00:00\n",
      "  Installing build dependencies: started\n",
      "  Installing build dependencies: finished with status 'done'\n",
      "  Getting requirements to build wheel: started\n",
      "  Getting requirements to build wheel: finished with status 'done'\n",
      "  Preparing metadata (pyproject.toml): started\n",
      "  Preparing metadata (pyproject.toml): finished with status 'done'\n",
      "Requirement already satisfied: wrapt in c:\\users\\ammar\\anaconda3\\lib\\site-packages (from pyzkaccess) (1.14.1)\n",
      "Collecting fire (from pyzkaccess)\n",
      "  Downloading fire-0.5.0.tar.gz (88 kB)\n",
      "     ---------------------------------------- 0.0/88.3 kB ? eta -:--:--\n",
      "     ---------------------------------------- 88.3/88.3 kB ? eta 0:00:00\n",
      "  Preparing metadata (setup.py): started\n",
      "  Preparing metadata (setup.py): finished with status 'done'\n",
      "Collecting prettytable (from pyzkaccess)\n",
      "  Obtaining dependency information for prettytable from https://files.pythonhosted.org/packages/25/1e/4c284713b092ec384fad4399452f43f6446ad9aabc9c0b3c3c0920cc53b6/prettytable-3.8.0-py3-none-any.whl.metadata\n",
      "  Downloading prettytable-3.8.0-py3-none-any.whl.metadata (26 kB)\n",
      "Requirement already satisfied: six in c:\\users\\ammar\\anaconda3\\lib\\site-packages (from fire->pyzkaccess) (1.16.0)\n",
      "Collecting termcolor (from fire->pyzkaccess)\n",
      "  Downloading termcolor-2.3.0-py3-none-any.whl (6.9 kB)\n",
      "Requirement already satisfied: wcwidth in c:\\users\\ammar\\anaconda3\\lib\\site-packages (from prettytable->pyzkaccess) (0.2.5)\n",
      "Downloading prettytable-3.8.0-py3-none-any.whl (27 kB)\n",
      "Building wheels for collected packages: pyzkaccess, fire\n",
      "  Building wheel for pyzkaccess (pyproject.toml): started\n",
      "  Building wheel for pyzkaccess (pyproject.toml): finished with status 'done'\n",
      "  Created wheel for pyzkaccess: filename=pyzkaccess-1.0-py3-none-any.whl size=61662 sha256=ceca84153c8a1627e72f568a58cdcc79f946f335b9a18d0c5bac854dfb4cfc73\n",
      "  Stored in directory: c:\\users\\ammar\\appdata\\local\\pip\\cache\\wheels\\bf\\cd\\44\\90f3640fee7bf7c8ac2d8d6473ad4e457ff6379a7d03fa4d20\n",
      "  Building wheel for fire (setup.py): started\n",
      "  Building wheel for fire (setup.py): finished with status 'done'\n",
      "  Created wheel for fire: filename=fire-0.5.0-py2.py3-none-any.whl size=116947 sha256=d1bc83af22b7a60211942d5de62589b6b92b557e39878e556fa6a4113d2f5399\n",
      "  Stored in directory: c:\\users\\ammar\\appdata\\local\\pip\\cache\\wheels\\a7\\ee\\a5\\19e91481be8bea594935d137578bfe77d6bf905e4595336f6b\n",
      "Successfully built pyzkaccess fire\n",
      "Installing collected packages: termcolor, prettytable, fire, pyzkaccess\n",
      "Successfully installed fire-0.5.0 prettytable-3.8.0 pyzkaccess-1.0 termcolor-2.3.0\n",
      "Note: you may need to restart the kernel to use updated packages.\n"
     ]
    }
   ],
   "source": [
    "pip install pyzkaccess"
   ]
  },
  {
   "cell_type": "code",
   "execution_count": 6,
   "id": "7b054239",
   "metadata": {},
   "outputs": [
    {
     "name": "stdout",
     "output_type": "stream",
     "text": [
      "Requirement already satisfied: pyodbc in c:\\users\\ammar\\anaconda3\\lib\\site-packages (4.0.34)\n",
      "Note: you may need to restart the kernel to use updated packages.\n"
     ]
    }
   ],
   "source": [
    "pip install pyodbc"
   ]
  },
  {
   "cell_type": "code",
   "execution_count": 9,
   "id": "a1db4d46",
   "metadata": {},
   "outputs": [
    {
     "ename": "InterfaceError",
     "evalue": "('IM002', '[IM002] [Microsoft][ODBC Driver Manager] Data source name not found and no default driver specified (0) (SQLDriverConnect)')",
     "output_type": "error",
     "traceback": [
      "\u001b[1;31m---------------------------------------------------------------------------\u001b[0m",
      "\u001b[1;31mInterfaceError\u001b[0m                            Traceback (most recent call last)",
      "Cell \u001b[1;32mIn[9], line 17\u001b[0m\n\u001b[0;32m     14\u001b[0m zkteco_socket\u001b[38;5;241m.\u001b[39mbind((\u001b[38;5;124m'\u001b[39m\u001b[38;5;124m0.0.0.0\u001b[39m\u001b[38;5;124m'\u001b[39m, ZKTECO_DEVICE_PORT))\n\u001b[0;32m     16\u001b[0m \u001b[38;5;66;03m# Connect to SSMS\u001b[39;00m\n\u001b[1;32m---> 17\u001b[0m ssms_connection \u001b[38;5;241m=\u001b[39m pyodbc\u001b[38;5;241m.\u001b[39mconnect(\n\u001b[0;32m     18\u001b[0m     \u001b[38;5;124mr\u001b[39m\u001b[38;5;124m'\u001b[39m\u001b[38;5;124mDRIVER=\u001b[39m\u001b[38;5;124m{{\u001b[39m\u001b[38;5;124mSQL Server}};\u001b[39m\u001b[38;5;124m'\u001b[39m\n\u001b[0;32m     19\u001b[0m     \u001b[38;5;124mr\u001b[39m\u001b[38;5;124m'\u001b[39m\u001b[38;5;124mSERVER=\u001b[39m\u001b[38;5;132;01m{SSMS_SERVER}\u001b[39;00m\u001b[38;5;124m;\u001b[39m\u001b[38;5;124m'\u001b[39m\n\u001b[0;32m     20\u001b[0m     \u001b[38;5;124mr\u001b[39m\u001b[38;5;124m'\u001b[39m\u001b[38;5;124mDATABASE=\u001b[39m\u001b[38;5;132;01m{SSMS_DATABASE}\u001b[39;00m\u001b[38;5;124m;\u001b[39m\u001b[38;5;124m'\u001b[39m\n\u001b[0;32m     21\u001b[0m     \u001b[38;5;124mr\u001b[39m\u001b[38;5;124m'\u001b[39m\u001b[38;5;124mUID=\u001b[39m\u001b[38;5;132;01m{SSMS_USER}\u001b[39;00m\u001b[38;5;124m;\u001b[39m\u001b[38;5;124m'\u001b[39m\n\u001b[0;32m     22\u001b[0m     \u001b[38;5;124mr\u001b[39m\u001b[38;5;124m'\u001b[39m\u001b[38;5;124mPWD=\u001b[39m\u001b[38;5;132;01m{SSMS_PASSWORD}\u001b[39;00m\u001b[38;5;124m;\u001b[39m\u001b[38;5;124m'\u001b[39m\n\u001b[0;32m     23\u001b[0m )\n\u001b[0;32m     24\u001b[0m ssms_cursor \u001b[38;5;241m=\u001b[39m ssms_connection\u001b[38;5;241m.\u001b[39mcursor()\n\u001b[0;32m     26\u001b[0m \u001b[38;5;28;01mtry\u001b[39;00m:\n",
      "\u001b[1;31mInterfaceError\u001b[0m: ('IM002', '[IM002] [Microsoft][ODBC Driver Manager] Data source name not found and no default driver specified (0) (SQLDriverConnect)')"
     ]
    }
   ],
   "source": [
    "import socket\n",
    "import pyodbc\n",
    "\n",
    "# Configuration\n",
    "ZKTECO_DEVICE_IP = '192.168.100.7'\n",
    "ZKTECO_DEVICE_PORT = 4370\n",
    "SSMS_SERVER = 'DESKTOP-51LBS5R\\SQLEXPRESS'\n",
    "SSMS_DATABASE = 'E_Attendance'\n",
    "SSMS_USER = 'ZKTecoUser'\n",
    "SSMS_PASSWORD = 'RocketDigitals'\n",
    "\n",
    "# Connect to ZKTeco Device\n",
    "zkteco_socket = socket.socket(socket.AF_INET, socket.SOCK_DGRAM)\n",
    "zkteco_socket.bind(('0.0.0.0', ZKTECO_DEVICE_PORT))\n",
    "\n",
    "# Connect to SSMS\n",
    "ssms_connection = pyodbc.connect(\n",
    "    r'DRIVER={{SQL Server}};'\n",
    "    r'SERVER={SSMS_SERVER};'\n",
    "    r'DATABASE={SSMS_DATABASE};'\n",
    "    r'UID={SSMS_USER};'\n",
    "    r'PWD={SSMS_PASSWORD};'\n",
    ")\n",
    "ssms_cursor = ssms_connection.cursor()\n",
    "\n",
    "try:\n",
    "    print(\"Listening for real-time data from ZKTeco device...\")\n",
    "    \n",
    "    while True:\n",
    "        data, addr = zkteco_socket.recvfrom(1024)  # Receive real-time data from the device\n",
    "        \n",
    "        # Parse and process data (implement as needed)\n",
    "        punch_data = data.decode('utf-8')\n",
    "        # Perform data processing and cleaning here\n",
    "        \n",
    "        # Insert data into SSMS\n",
    "        insert_sql = \"INSERT INTO AttendanceTable (Column1, Column2, ...) VALUES (?, ?)\"  # Modify SQL as needed\n",
    "        ssms_cursor.execute(insert_sql, (value1, value2))  # Provide appropriate values\n",
    "        ssms_connection.commit()\n",
    "        print(\"Data inserted into SSMS:\", punch_data)\n",
    "\n",
    "except KeyboardInterrupt:\n",
    "    print(\"Script terminated by user.\")\n",
    "except Exception as e:\n",
    "    print(\"Error:\", str(e))\n",
    "finally:\n",
    "    # Close connections\n",
    "    ssms_cursor.close()\n",
    "    ssms_connection.close()\n",
    "    zkteco_socket.close()"
   ]
  },
  {
   "cell_type": "code",
   "execution_count": 7,
   "id": "544022d0",
   "metadata": {},
   "outputs": [
    {
     "ename": "NameError",
     "evalue": "name 'pyodbc' is not defined",
     "output_type": "error",
     "traceback": [
      "\u001b[1;31m---------------------------------------------------------------------------\u001b[0m",
      "\u001b[1;31mNameError\u001b[0m                                 Traceback (most recent call last)",
      "Cell \u001b[1;32mIn[7], line 8\u001b[0m\n\u001b[0;32m      1\u001b[0m \u001b[38;5;66;03m# Connect to SQL Server\u001b[39;00m\n\u001b[0;32m      2\u001b[0m conn_str \u001b[38;5;241m=\u001b[39m (\n\u001b[0;32m      3\u001b[0m     \u001b[38;5;124mr\u001b[39m\u001b[38;5;124m'\u001b[39m\u001b[38;5;124mDRIVER=\u001b[39m\u001b[38;5;124m{\u001b[39m\u001b[38;5;124mSQL SERVER};\u001b[39m\u001b[38;5;124m'\u001b[39m\n\u001b[0;32m      4\u001b[0m     \u001b[38;5;124mr\u001b[39m\u001b[38;5;124m'\u001b[39m\u001b[38;5;124mSERVER=DESKTOP-51LBS5R\u001b[39m\u001b[38;5;124m\\\u001b[39m\u001b[38;5;124mSQLEXPRESS;\u001b[39m\u001b[38;5;124m'\u001b[39m\n\u001b[0;32m      5\u001b[0m     \u001b[38;5;124mr\u001b[39m\u001b[38;5;124m'\u001b[39m\u001b[38;5;124mDATABASE=E_Attendance;\u001b[39m\u001b[38;5;124m'\u001b[39m\n\u001b[0;32m      6\u001b[0m     \u001b[38;5;124mr\u001b[39m\u001b[38;5;124m'\u001b[39m\u001b[38;5;124mTrusted_Connection=yes;\u001b[39m\u001b[38;5;124m'\u001b[39m\n\u001b[0;32m      7\u001b[0m )\n\u001b[1;32m----> 8\u001b[0m cnxn \u001b[38;5;241m=\u001b[39m pyodbc\u001b[38;5;241m.\u001b[39mconnect(conn_str)\n\u001b[0;32m      9\u001b[0m cursor \u001b[38;5;241m=\u001b[39m cnxn\u001b[38;5;241m.\u001b[39mcursor()\n",
      "\u001b[1;31mNameError\u001b[0m: name 'pyodbc' is not defined"
     ]
    }
   ],
   "source": [
    "# Connect to SQL Server\n",
    "conn_str = (\n",
    "    r'DRIVER={SQL SERVER};'\n",
    "    r'SERVER=DESKTOP-51LBS5R\\SQLEXPRESS;'\n",
    "    r'DATABASE=E_Attendance;'\n",
    "    r'Trusted_Connection=yes;'\n",
    ")\n",
    "cnxn = pyodbc.connect(conn_str)\n",
    "cursor = cnxn.cursor()"
   ]
  },
  {
   "cell_type": "code",
   "execution_count": 1,
   "id": "3391d3c2",
   "metadata": {},
   "outputs": [
    {
     "name": "stdout",
     "output_type": "stream",
     "text": [
      "Requirement already satisfied: pyzkaccess in c:\\users\\ammar\\anaconda3\\lib\\site-packages (1.0)\n",
      "Requirement already satisfied: wrapt in c:\\users\\ammar\\anaconda3\\lib\\site-packages (from pyzkaccess) (1.14.1)\n",
      "Requirement already satisfied: fire in c:\\users\\ammar\\anaconda3\\lib\\site-packages (from pyzkaccess) (0.5.0)\n",
      "Requirement already satisfied: prettytable in c:\\users\\ammar\\anaconda3\\lib\\site-packages (from pyzkaccess) (3.8.0)\n",
      "Requirement already satisfied: six in c:\\users\\ammar\\anaconda3\\lib\\site-packages (from fire->pyzkaccess) (1.16.0)\n",
      "Requirement already satisfied: termcolor in c:\\users\\ammar\\anaconda3\\lib\\site-packages (from fire->pyzkaccess) (2.3.0)\n",
      "Requirement already satisfied: wcwidth in c:\\users\\ammar\\anaconda3\\lib\\site-packages (from prettytable->pyzkaccess) (0.2.5)\n",
      "Note: you may need to restart the kernel to use updated packages.\n"
     ]
    }
   ],
   "source": [
    "pip install pyzkaccess"
   ]
  },
  {
   "cell_type": "code",
   "execution_count": 2,
   "id": "f970e228",
   "metadata": {},
   "outputs": [],
   "source": [
    "from pyzkaccess import ZKAccess"
   ]
  },
  {
   "cell_type": "code",
   "execution_count": 6,
   "id": "97b0ffdc",
   "metadata": {},
   "outputs": [
    {
     "ename": "FileNotFoundError",
     "evalue": "Could not find module 'plcommpro.dll' (or one of its dependencies). Try using the full path with constructor syntax.",
     "output_type": "error",
     "traceback": [
      "\u001b[1;31m---------------------------------------------------------------------------\u001b[0m",
      "\u001b[1;31mFileNotFoundError\u001b[0m                         Traceback (most recent call last)",
      "Cell \u001b[1;32mIn[6], line 2\u001b[0m\n\u001b[0;32m      1\u001b[0m connstr \u001b[38;5;241m=\u001b[39m \u001b[38;5;124m'\u001b[39m\u001b[38;5;124mprotocol=TCP,ipaddress=192.168.100.7,port=4370,timeout=4000,passwd=123\u001b[39m\u001b[38;5;124m'\u001b[39m\n\u001b[1;32m----> 2\u001b[0m zk \u001b[38;5;241m=\u001b[39m ZKAccess(connstr\u001b[38;5;241m=\u001b[39mconnstr)\n",
      "File \u001b[1;32m~\\anaconda3\\Lib\\site-packages\\pyzkaccess\\main.py:66\u001b[0m, in \u001b[0;36mZKAccess.__init__\u001b[1;34m(self, connstr, device, device_model, dllpath, log_capacity)\u001b[0m\n\u001b[0;32m     64\u001b[0m \u001b[38;5;28mself\u001b[39m\u001b[38;5;241m.\u001b[39mconnstr \u001b[38;5;241m=\u001b[39m connstr\n\u001b[0;32m     65\u001b[0m \u001b[38;5;28mself\u001b[39m\u001b[38;5;241m.\u001b[39mdevice_model \u001b[38;5;241m=\u001b[39m device_model\n\u001b[1;32m---> 66\u001b[0m \u001b[38;5;28mself\u001b[39m\u001b[38;5;241m.\u001b[39msdk \u001b[38;5;241m=\u001b[39m pyzkaccess\u001b[38;5;241m.\u001b[39msdk\u001b[38;5;241m.\u001b[39mZKSDK(dllpath)\n\u001b[0;32m     67\u001b[0m \u001b[38;5;28mself\u001b[39m\u001b[38;5;241m.\u001b[39m_device \u001b[38;5;241m=\u001b[39m device\n\u001b[0;32m     68\u001b[0m \u001b[38;5;28mself\u001b[39m\u001b[38;5;241m.\u001b[39m_event_log \u001b[38;5;241m=\u001b[39m EventLog(\u001b[38;5;28mself\u001b[39m\u001b[38;5;241m.\u001b[39msdk, \u001b[38;5;28mself\u001b[39m\u001b[38;5;241m.\u001b[39mbuffer_size, maxlen\u001b[38;5;241m=\u001b[39mlog_capacity)\n",
      "File \u001b[1;32m~\\anaconda3\\Lib\\site-packages\\pyzkaccess\\sdk.py:23\u001b[0m, in \u001b[0;36mZKSDK.__init__\u001b[1;34m(self, dllpath)\u001b[0m\n\u001b[0;32m     17\u001b[0m \u001b[38;5;250m\u001b[39m\u001b[38;5;124;03m\"\"\"\u001b[39;00m\n\u001b[0;32m     18\u001b[0m \u001b[38;5;124;03mArgs:\u001b[39;00m\n\u001b[0;32m     19\u001b[0m \u001b[38;5;124;03m    dllpath (str): path to a DLL file. E.g. \"plcommpro.dll\"\u001b[39;00m\n\u001b[0;32m     20\u001b[0m \n\u001b[0;32m     21\u001b[0m \u001b[38;5;124;03m\"\"\"\u001b[39;00m\n\u001b[0;32m     22\u001b[0m \u001b[38;5;28mself\u001b[39m\u001b[38;5;241m.\u001b[39mhandle \u001b[38;5;241m=\u001b[39m \u001b[38;5;28;01mNone\u001b[39;00m\n\u001b[1;32m---> 23\u001b[0m \u001b[38;5;28mself\u001b[39m\u001b[38;5;241m.\u001b[39mdll \u001b[38;5;241m=\u001b[39m ctypes\u001b[38;5;241m.\u001b[39mWinDLL(dllpath)\n",
      "File \u001b[1;32m~\\anaconda3\\Lib\\ctypes\\__init__.py:376\u001b[0m, in \u001b[0;36mCDLL.__init__\u001b[1;34m(self, name, mode, handle, use_errno, use_last_error, winmode)\u001b[0m\n\u001b[0;32m    373\u001b[0m \u001b[38;5;28mself\u001b[39m\u001b[38;5;241m.\u001b[39m_FuncPtr \u001b[38;5;241m=\u001b[39m _FuncPtr\n\u001b[0;32m    375\u001b[0m \u001b[38;5;28;01mif\u001b[39;00m handle \u001b[38;5;129;01mis\u001b[39;00m \u001b[38;5;28;01mNone\u001b[39;00m:\n\u001b[1;32m--> 376\u001b[0m     \u001b[38;5;28mself\u001b[39m\u001b[38;5;241m.\u001b[39m_handle \u001b[38;5;241m=\u001b[39m _dlopen(\u001b[38;5;28mself\u001b[39m\u001b[38;5;241m.\u001b[39m_name, mode)\n\u001b[0;32m    377\u001b[0m \u001b[38;5;28;01melse\u001b[39;00m:\n\u001b[0;32m    378\u001b[0m     \u001b[38;5;28mself\u001b[39m\u001b[38;5;241m.\u001b[39m_handle \u001b[38;5;241m=\u001b[39m handle\n",
      "\u001b[1;31mFileNotFoundError\u001b[0m: Could not find module 'plcommpro.dll' (or one of its dependencies). Try using the full path with constructor syntax."
     ]
    }
   ],
   "source": [
    "connstr = 'protocol=TCP,ipaddress=192.168.100.7,port=4370,timeout=4000,passwd=123'\n",
    "zk = ZKAccess(connstr=connstr)"
   ]
  },
  {
   "cell_type": "code",
   "execution_count": null,
   "id": "bfa38709",
   "metadata": {},
   "outputs": [],
   "source": []
  }
 ],
 "metadata": {
  "kernelspec": {
   "display_name": "Python 3 (ipykernel)",
   "language": "python",
   "name": "python3"
  },
  "language_info": {
   "codemirror_mode": {
    "name": "ipython",
    "version": 3
   },
   "file_extension": ".py",
   "mimetype": "text/x-python",
   "name": "python",
   "nbconvert_exporter": "python",
   "pygments_lexer": "ipython3",
   "version": "3.11.4"
  }
 },
 "nbformat": 4,
 "nbformat_minor": 5
}
